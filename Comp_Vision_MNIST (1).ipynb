{
  "nbformat": 4,
  "nbformat_minor": 0,
  "metadata": {
    "colab": {
      "name": "Comp_Vision_MNIST.ipynb",
      "provenance": []
    },
    "kernelspec": {
      "name": "python3",
      "display_name": "Python 3"
    }
  },
  "cells": [
    {
      "cell_type": "code",
      "metadata": {
        "id": "grEa_DXhH5yr"
      },
      "source": [
        "import keras\n",
        "import tensorflow as tf\n",
        "import numpy as np\n",
        "import matplotlib.pyplot as plt\n",
        "from keras.datasets import mnist\n",
        "from sklearn.model_selection import train_test_split\n",
        "from keras.utils.np_utils import to_categorical\n",
        "from keras.models import Sequential\n",
        "from keras.layers import Dense, Dropout, Flatten\n",
        "from keras.layers import Conv2D, MaxPooling2D\n",
        "from keras.models import load_model\n",
        "import pandas as pd"
      ],
      "execution_count": null,
      "outputs": []
    },
    {
      "cell_type": "code",
      "metadata": {
        "id": "xCbZIN5mH7Fq",
        "colab": {
          "base_uri": "https://localhost:8080/"
        },
        "outputId": "ade70e87-5538-4d21-9a92-dc0de59c7064"
      },
      "source": [
        "(x_train, y_train), (x_test, y_test) = mnist.load_data()"
      ],
      "execution_count": null,
      "outputs": [
        {
          "output_type": "stream",
          "text": [
            "Downloading data from https://storage.googleapis.com/tensorflow/tf-keras-datasets/mnist.npz\n",
            "11493376/11490434 [==============================] - 0s 0us/step\n"
          ],
          "name": "stdout"
        }
      ]
    },
    {
      "cell_type": "code",
      "metadata": {
        "colab": {
          "base_uri": "https://localhost:8080/"
        },
        "id": "qa7Kt9WkID49",
        "outputId": "8de89566-a7cd-4e97-a1b6-85b1365237f2"
      },
      "source": [
        "x_train.shape"
      ],
      "execution_count": null,
      "outputs": [
        {
          "output_type": "execute_result",
          "data": {
            "text/plain": [
              "(60000, 28, 28)"
            ]
          },
          "metadata": {
            "tags": []
          },
          "execution_count": 3
        }
      ]
    },
    {
      "cell_type": "code",
      "metadata": {
        "colab": {
          "base_uri": "https://localhost:8080/"
        },
        "id": "2rGs-p0KIHcl",
        "outputId": "d5a7af3e-f934-4dd6-c8a1-390a99801d49"
      },
      "source": [
        "x_train[0].shape"
      ],
      "execution_count": null,
      "outputs": [
        {
          "output_type": "execute_result",
          "data": {
            "text/plain": [
              "(28, 28)"
            ]
          },
          "metadata": {
            "tags": []
          },
          "execution_count": 4
        }
      ]
    },
    {
      "cell_type": "code",
      "metadata": {
        "colab": {
          "base_uri": "https://localhost:8080/",
          "height": 282
        },
        "id": "M7tWGaOYIJhq",
        "outputId": "1d15dbe2-2d55-412d-e4d4-ecc8693a900d"
      },
      "source": [
        "plt.imshow(x_train[0])\n"
      ],
      "execution_count": null,
      "outputs": [
        {
          "output_type": "execute_result",
          "data": {
            "text/plain": [
              "<matplotlib.image.AxesImage at 0x7f733e5b4dd0>"
            ]
          },
          "metadata": {
            "tags": []
          },
          "execution_count": 5
        },
        {
          "output_type": "display_data",
          "data": {
            "image/png": "[encoded data removed]",
            "text/plain": [
              "<Figure size 432x288 with 1 Axes>"
            ]
          },
          "metadata": {
            "tags": [],
            "needs_background": "light"
          }
        }
      ]
    },
    {
      "cell_type": "code",
      "metadata": {
        "id": "HXwo7I42IMLt"
      },
      "source": [
        "x_train, x_validation, y_train, y_validation = train_test_split(x_train, y_train, test_size = 0.15, random_state = 42)"
      ],
      "execution_count": null,
      "outputs": []
    },
    {
      "cell_type": "code",
      "metadata": {
        "id": "eNDOC4b9ISOJ"
      },
      "source": [
        "y_train_cat = to_categorical(y_train, 10)\n",
        "y_test_cat = to_categorical(y_test, 10)\n",
        "y_validation_cat = to_categorical(y_validation, 10)"
      ],
      "execution_count": null,
      "outputs": []
    },
    {
      "cell_type": "code",
      "metadata": {
        "id": "r-WIU1NNIZcO"
      },
      "source": [
        "x_train = x_train/255.0\n",
        "x_test = x_test/255.0\n",
        "x_validation = x_validation/255.0"
      ],
      "execution_count": null,
      "outputs": []
    },
    {
      "cell_type": "code",
      "metadata": {
        "id": "wZj7Wb9BIcVk"
      },
      "source": [
        "x_train = x_train.reshape(x_train.shape[0], 28, 28, 1)\n",
        "x_test = x_test.reshape(x_test.shape[0], 28, 28, 1)\n",
        "x_validation = x_validation.reshape(x_validation.shape[0], 28, 28, 1)"
      ],
      "execution_count": null,
      "outputs": []
    },
    {
      "cell_type": "code",
      "metadata": {
        "id": "1fU3kUihIgFm"
      },
      "source": [
        "input_shape=(28, 28, 1)\n",
        "model = Sequential()\n",
        "model.add(Conv2D(32, kernel_size=(5, 5),activation='relu', input_shape=input_shape))\n",
        "model.add(MaxPooling2D(pool_size = (2,2)))\n",
        "model.add(Flatten())\n",
        "model.add(Dense(128, activation='relu'))\n",
        "model.add(Dense(10, activation='softmax'))"
      ],
      "execution_count": null,
      "outputs": []
    },
    {
      "cell_type": "code",
      "metadata": {
        "id": "u2MT0g-jIkSw"
      },
      "source": [
        "model.compile( optimizer = 'adam', loss='categorical_crossentropy', metrics =['accuracy'])"
      ],
      "execution_count": null,
      "outputs": []
    },
    {
      "cell_type": "code",
      "metadata": {
        "colab": {
          "base_uri": "https://localhost:8080/"
        },
        "id": "9r0-eEqtImJk",
        "outputId": "8ecfb67e-90c5-44bd-ca30-882a475e7052"
      },
      "source": [
        "model.fit(x_train, y_train_cat, epochs = 8, batch_size = 128, validation_data = (x_validation, y_validation_cat), verbose = 1)\n"
      ],
      "execution_count": null,
      "outputs": [
        {
          "output_type": "stream",
          "text": [
            "Epoch 1/8\n",
            "399/399 [==============================] - 25s 61ms/step - loss: 0.4725 - accuracy: 0.8665 - val_loss: 0.0757 - val_accuracy: 0.9792\n",
            "Epoch 2/8\n",
            "399/399 [==============================] - 24s 59ms/step - loss: 0.0676 - accuracy: 0.9800 - val_loss: 0.0558 - val_accuracy: 0.9829\n",
            "Epoch 3/8\n",
            "399/399 [==============================] - 24s 60ms/step - loss: 0.0448 - accuracy: 0.9859 - val_loss: 0.0480 - val_accuracy: 0.9867\n",
            "Epoch 4/8\n",
            "399/399 [==============================] - 24s 60ms/step - loss: 0.0343 - accuracy: 0.9893 - val_loss: 0.0427 - val_accuracy: 0.9887\n",
            "Epoch 5/8\n",
            "399/399 [==============================] - 24s 60ms/step - loss: 0.0219 - accuracy: 0.9936 - val_loss: 0.0466 - val_accuracy: 0.9869\n",
            "Epoch 6/8\n",
            "399/399 [==============================] - 24s 60ms/step - loss: 0.0158 - accuracy: 0.9948 - val_loss: 0.0400 - val_accuracy: 0.9896\n",
            "Epoch 7/8\n",
            "399/399 [==============================] - 24s 59ms/step - loss: 0.0143 - accuracy: 0.9958 - val_loss: 0.0401 - val_accuracy: 0.9896\n",
            "Epoch 8/8\n",
            "399/399 [==============================] - 24s 59ms/step - loss: 0.0108 - accuracy: 0.9970 - val_loss: 0.0485 - val_accuracy: 0.9874\n"
          ],
          "name": "stdout"
        },
        {
          "output_type": "execute_result",
          "data": {
            "text/plain": [
              "<tensorflow.python.keras.callbacks.History at 0x7f733a08d850>"
            ]
          },
          "metadata": {
            "tags": []
          },
          "execution_count": 12
        }
      ]
    },
    {
      "cell_type": "code",
      "metadata": {
        "colab": {
          "base_uri": "https://localhost:8080/"
        },
        "id": "ZJqPrTlSLm6H",
        "outputId": "11fe2efa-bc1b-4ae7-f52c-35ca8ccfec8e"
      },
      "source": [
        "score = model.evaluate(x_test, y_test_cat, verbose = 1)\n",
        "print('Accuracy: ', score[1])\n",
        "print('Test loss: ', score[0])"
      ],
      "execution_count": null,
      "outputs": [
        {
          "output_type": "stream",
          "text": [
            "313/313 [==============================] - 2s 6ms/step - loss: 0.0430 - accuracy: 0.9870\n",
            "Accuracy:  0.9869999885559082\n",
            "Test loss:  0.0430414117872715\n"
          ],
          "name": "stdout"
        }
      ]
    },
    {
      "cell_type": "code",
      "metadata": {
        "colab": {
          "base_uri": "https://localhost:8080/"
        },
        "id": "m_ok1wtFLvli",
        "outputId": "1fce0097-8df5-469b-db83-5c4388892adb"
      },
      "source": [
        "from keras.models import load_model\n",
        "model.save('mnist_trained_1')"
      ],
      "execution_count": null,
      "outputs": [
        {
          "output_type": "stream",
          "text": [
            "INFO:tensorflow:Assets written to: mnist_trained_1/assets\n"
          ],
          "name": "stdout"
        }
      ]
    },
    {
      "cell_type": "code",
      "metadata": {
        "id": "0PONEM7UL2Vu"
      },
      "source": [
        "from sklearn.metrics import classification_report\n",
        "prediction = np.argmax(model.predict(x_test), axis=-1)"
      ],
      "execution_count": null,
      "outputs": []
    },
    {
      "cell_type": "code",
      "metadata": {
        "colab": {
          "base_uri": "https://localhost:8080/"
        },
        "id": "rfgfB30AMB60",
        "outputId": "5f7bbafc-73c7-40eb-e2a6-408581ebe97f"
      },
      "source": [
        "prediction"
      ],
      "execution_count": null,
      "outputs": [
        {
          "output_type": "execute_result",
          "data": {
            "text/plain": [
              "array([7, 2, 1, ..., 4, 5, 6])"
            ]
          },
          "metadata": {
            "tags": []
          },
          "execution_count": 16
        }
      ]
    },
    {
      "cell_type": "code",
      "metadata": {
        "colab": {
          "base_uri": "https://localhost:8080/"
        },
        "id": "iPw4RTeOMEAd",
        "outputId": "9e9d06ed-381d-429c-de7f-217b23755a19"
      },
      "source": [
        "print(classification_report(y_test, prediction))"
      ],
      "execution_count": null,
      "outputs": [
        {
          "output_type": "stream",
          "text": [
            "              precision    recall  f1-score   support\n",
            "\n",
            "           0       0.98      1.00      0.99       980\n",
            "           1       0.99      1.00      1.00      1135\n",
            "           2       0.98      0.99      0.99      1032\n",
            "           3       1.00      0.97      0.98      1010\n",
            "           4       0.99      0.99      0.99       982\n",
            "           5       0.97      1.00      0.98       892\n",
            "           6       0.99      0.99      0.99       958\n",
            "           7       0.99      0.98      0.99      1028\n",
            "           8       0.99      0.97      0.98       974\n",
            "           9       0.97      0.99      0.98      1009\n",
            "\n",
            "    accuracy                           0.99     10000\n",
            "   macro avg       0.99      0.99      0.99     10000\n",
            "weighted avg       0.99      0.99      0.99     10000\n",
            "\n"
          ],
          "name": "stdout"
        }
      ]
    },
    {
      "cell_type": "code",
      "metadata": {
        "colab": {
          "base_uri": "https://localhost:8080/"
        },
        "id": "iXJ1-Hz2MIRz",
        "outputId": "e452916b-7108-4e09-996b-72a3e3b5fa6e"
      },
      "source": [
        "image_pred = model.predict(x_test[5].reshape(1,28,28,1))\n",
        "image_pred"
      ],
      "execution_count": null,
      "outputs": [
        {
          "output_type": "execute_result",
          "data": {
            "text/plain": [
              "array([[8.3093958e-09, 9.9999416e-01, 8.7197076e-09, 6.8420811e-11,\n",
              "        4.0341652e-07, 3.4136100e-10, 2.6218587e-09, 5.2349192e-06,\n",
              "        1.2412441e-07, 2.6125635e-09]], dtype=float32)"
            ]
          },
          "metadata": {
            "tags": []
          },
          "execution_count": 24
        }
      ]
    },
    {
      "cell_type": "code",
      "metadata": {
        "id": "Bppq1tQ2MQao"
      },
      "source": [
        "table = pd.DataFrame()\n",
        "table['Numbers'] = np.arange(0,10)\n",
        "table['Prob %'] = image_pred[0].round(2)*100"
      ],
      "execution_count": null,
      "outputs": []
    },
    {
      "cell_type": "code",
      "metadata": {
        "colab": {
          "base_uri": "https://localhost:8080/",
          "height": 359
        },
        "id": "jwNy2xc9MkXl",
        "outputId": "15c0b538-d828-4b7f-96d9-24c489fecbec"
      },
      "source": [
        "table"
      ],
      "execution_count": null,
      "outputs": [
        {
          "output_type": "execute_result",
          "data": {
            "text/html": [
              "<div>\n",
              "<style scoped>\n",
              "    .dataframe tbody tr th:only-of-type {\n",
              "        vertical-align: middle;\n",
              "    }\n",
              "\n",
              "    .dataframe tbody tr th {\n",
              "        vertical-align: top;\n",
              "    }\n",
              "\n",
              "    .dataframe thead th {\n",
              "        text-align: right;\n",
              "    }\n",
              "</style>\n",
              "<table border=\"1\" class=\"dataframe\">\n",
              "  <thead>\n",
              "    <tr style=\"text-align: right;\">\n",
              "      <th></th>\n",
              "      <th>Numbers</th>\n",
              "      <th>Prob %</th>\n",
              "    </tr>\n",
              "  </thead>\n",
              "  <tbody>\n",
              "    <tr>\n",
              "      <th>0</th>\n",
              "      <td>0</td>\n",
              "      <td>0.0</td>\n",
              "    </tr>\n",
              "    <tr>\n",
              "      <th>1</th>\n",
              "      <td>1</td>\n",
              "      <td>100.0</td>\n",
              "    </tr>\n",
              "    <tr>\n",
              "      <th>2</th>\n",
              "      <td>2</td>\n",
              "      <td>0.0</td>\n",
              "    </tr>\n",
              "    <tr>\n",
              "      <th>3</th>\n",
              "      <td>3</td>\n",
              "      <td>0.0</td>\n",
              "    </tr>\n",
              "    <tr>\n",
              "      <th>4</th>\n",
              "      <td>4</td>\n",
              "      <td>0.0</td>\n",
              "    </tr>\n",
              "    <tr>\n",
              "      <th>5</th>\n",
              "      <td>5</td>\n",
              "      <td>0.0</td>\n",
              "    </tr>\n",
              "    <tr>\n",
              "      <th>6</th>\n",
              "      <td>6</td>\n",
              "      <td>0.0</td>\n",
              "    </tr>\n",
              "    <tr>\n",
              "      <th>7</th>\n",
              "      <td>7</td>\n",
              "      <td>0.0</td>\n",
              "    </tr>\n",
              "    <tr>\n",
              "      <th>8</th>\n",
              "      <td>8</td>\n",
              "      <td>0.0</td>\n",
              "    </tr>\n",
              "    <tr>\n",
              "      <th>9</th>\n",
              "      <td>9</td>\n",
              "      <td>0.0</td>\n",
              "    </tr>\n",
              "  </tbody>\n",
              "</table>\n",
              "</div>"
            ],
            "text/plain": [
              "   Numbers  Prob %\n",
              "0        0     0.0\n",
              "1        1   100.0\n",
              "2        2     0.0\n",
              "3        3     0.0\n",
              "4        4     0.0\n",
              "5        5     0.0\n",
              "6        6     0.0\n",
              "7        7     0.0\n",
              "8        8     0.0\n",
              "9        9     0.0"
            ]
          },
          "metadata": {
            "tags": []
          },
          "execution_count": 28
        }
      ]
    }
  ]
}